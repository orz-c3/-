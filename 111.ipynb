{
  "nbformat": 4,
  "nbformat_minor": 0,
  "metadata": {
    "colab": {
      "provenance": [],
      "authorship_tag": "ABX9TyPGu279FrDafiJJQvuCAUJj",
      "include_colab_link": true
    },
    "kernelspec": {
      "name": "python3",
      "display_name": "Python 3"
    },
    "language_info": {
      "name": "python"
    }
  },
  "cells": [
    {
      "cell_type": "markdown",
      "metadata": {
        "id": "view-in-github",
        "colab_type": "text"
      },
      "source": [
        "<a href=\"https://colab.research.google.com/github/orz-c3/-/blob/main/111.ipynb\" target=\"_parent\"><img src=\"https://colab.research.google.com/assets/colab-badge.svg\" alt=\"Open In Colab\"/></a>"
      ]
    },
    {
      "cell_type": "code",
      "source": [
        "import rpy2.robjects as robjects\n",
        "import pandas as pd\n",
        "import numpy as np\n",
        "\n",
        "# 加载 .RData 文件\n",
        "robjects.r['load']('riboflavin.RData')\n",
        "\n",
        "# 列出当前环境中的所有对象\n",
        "objects = robjects.r['ls']()\n",
        "print(\"R环境中的对象:\", objects)\n",
        "\n",
        "# 定义要访问的对象\n",
        "obj_names = ['X', 'Y']\n",
        "data_frames = {}\n",
        "\n",
        "for obj_name in obj_names:\n",
        "    data = robjects.r[obj_name]\n",
        "\n",
        "    # 检查对象的类型\n",
        "    data_class = robjects.r['class'](data)\n",
        "    print(f\"对象 '{obj_name}' 的类型:\", data_class)\n",
        "\n",
        "    # 根据对象类型进行处理，并转换为 DataFrame\n",
        "    if data_class[0] == 'data.frame':\n",
        "        df = pd.DataFrame(data)\n",
        "    elif data_class[0] == 'matrix':\n",
        "        df = pd.DataFrame(data)\n",
        "    elif data_class[0] == 'list':\n",
        "        # 将列表转换为 DataFrame\n",
        "        df = pd.DataFrame({f\"col_{i}\": data[i] for i in range(len(data))})\n",
        "    elif data_class[0] in ['numeric', 'integer']:\n",
        "        # 向量转换为 DataFrame\n",
        "        df = pd.DataFrame(data)\n",
        "    elif data_class[0] == 'array':\n",
        "        # 将 array 转换为 DataFrame\n",
        "        # 这里我们假设 array 是二维的\n",
        "        df = pd.DataFrame(np.array(data))\n",
        "    else:\n",
        "        print(f\"对象 '{obj_name}' 的类型 '{data_class[0]}' 不被支持或未处理。\")\n",
        "        continue\n",
        "\n",
        "    # 存储数据框\n",
        "    data_frames[obj_name] = df\n",
        "\n",
        "    # 导出为 CSV 文件\n",
        "    df.to_csv(f\"{obj_name}.csv\", index=False)\n",
        "    print(f\"对象 '{obj_name}' 已导出为 '{obj_name}.csv'。\")\n",
        "\n",
        "# 如果需要，也可以导出为 Excel 文件\n",
        "# with pd.ExcelWriter('data.xlsx') as writer:\n",
        "#     for name, df in data_frames.items():\n",
        "#         df.to_excel(writer, sheet_name=name, index=False)\n",
        "#         print(f\"对象 '{name}' 已导出为 Excel 文件。\")\n"
      ],
      "metadata": {
        "id": "jS4inkj5C9qL",
        "outputId": "2e0c53a8-03e8-46a8-ab04-6c33401c9d57",
        "colab": {
          "base_uri": "https://localhost:8080/"
        }
      },
      "execution_count": 12,
      "outputs": [
        {
          "output_type": "stream",
          "name": "stdout",
          "text": [
            "R环境中的对象: [1] \"X\" \"Y\"\n",
            "\n",
            "对象 'X' 的类型: [1] \"matrix\" \"array\" \n",
            "\n",
            "对象 'X' 已导出为 'X.csv'。\n",
            "对象 'Y' 的类型: [1] \"array\"\n",
            "\n",
            "对象 'Y' 已导出为 'Y.csv'。\n"
          ]
        }
      ]
    },
    {
      "cell_type": "code",
      "source": [
        "import pandas as pd\n",
        "from sklearn.ensemble import RandomForestRegressor\n",
        "from sklearn.feature_selection import SelectFromModel\n",
        "\n",
        "# 导入数据\n",
        "X = pd.read_csv('X.csv')\n",
        "Y = pd.read_csv('Y.csv')\n",
        "\n",
        "# 确保 Y 是一维的\n",
        "Y = Y.values.ravel()\n",
        "\n",
        "# 创建随机森林模型\n",
        "model = RandomForestRegressor(n_estimators=100, random_state=42)\n",
        "\n",
        "# 训练模型\n",
        "model.fit(X, Y)\n",
        "\n",
        "# 获取特征的重要性\n",
        "importances = model.feature_importances_\n",
        "\n",
        "# 将特征重要性与特征名称结合\n",
        "feature_importance = pd.DataFrame({'Feature': X.columns, 'Importance': importances})\n",
        "\n",
        "# 按照重要性排序\n",
        "feature_importance = feature_importance.sort_values(by='Importance', ascending=False)\n",
        "\n",
        "# 选出前5个重要特征\n",
        "top_features = feature_importance.head(5)\n",
        "\n",
        "print(\"与 Y 最相关的前 5 个特征:\")\n",
        "print(top_features)\n"
      ],
      "metadata": {
        "colab": {
          "base_uri": "https://localhost:8080/"
        },
        "id": "-2l6jen5U1Ye",
        "outputId": "a15b6d71-0f6c-449d-d99f-8d4c0a7f9625"
      },
      "execution_count": 16,
      "outputs": [
        {
          "output_type": "stream",
          "name": "stdout",
          "text": [
            "与 Y 最相关的前 5 个特征:\n",
            "     Feature  Importance\n",
            "4002    4002    0.076301\n",
            "2383    2383    0.049331\n",
            "439      439    0.047942\n",
            "2554    2554    0.039340\n",
            "1122    1122    0.026610\n"
          ]
        }
      ]
    }
  ]
}